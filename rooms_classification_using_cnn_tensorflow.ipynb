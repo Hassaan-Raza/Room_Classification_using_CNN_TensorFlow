{
 "cells": [
  {
   "cell_type": "markdown",
   "id": "2b3eb480-0fa9-4401-b417-90559d0ffd98",
   "metadata": {},
   "source": [
    "## Convolutional Neural Network Using Tensorflow on Custom Dataset"
   ]
  },
  {
   "cell_type": "code",
   "execution_count": 1,
   "id": "da88b912-e69a-45ee-9a17-18bb527343eb",
   "metadata": {},
   "outputs": [
    {
     "name": "stdout",
     "output_type": "stream",
     "text": [
      "['bed_room', 'dining_room', 'living_room']\n",
      "Types of rooms found:  3\n"
     ]
    }
   ],
   "source": [
    "import numpy as np\n",
    "import pandas as pd\n",
    "import matplotlib.pyplot as plt\n",
    "import os\n",
    "\n",
    "dataset_path =os.listdir('dataset')\n",
    "room_types=os.listdir('dataset')\n",
    "print(room_types)\n",
    "print(\"Types of rooms found: \",len(dataset_path))\n"
   ]
  },
  {
   "cell_type": "code",
   "execution_count": 2,
   "id": "694f10be-8d8b-4b2d-89af-82e72862713a",
   "metadata": {},
   "outputs": [
    {
     "name": "stdout",
     "output_type": "stream",
     "text": [
      "[('bed_room', 'dataset/bed_room/bed-1303451__340.jpg')]\n",
      "[('bed_room', 'dataset/bed_room/bed-1303451__340.jpg')]\n",
      "[('bed_room', 'dataset/bed_room/bed-1303451__340.jpg')]\n",
      "[('bed_room', 'dataset/bed_room/bed-1303451__340.jpg')]\n",
      "[('bed_room', 'dataset/bed_room/bed-1303451__340.jpg')]\n",
      "[('bed_room', 'dataset/bed_room/bed-1303451__340.jpg')]\n",
      "[('bed_room', 'dataset/bed_room/bed-1303451__340.jpg')]\n",
      "[('bed_room', 'dataset/bed_room/bed-1303451__340.jpg')]\n",
      "[('bed_room', 'dataset/bed_room/bed-1303451__340.jpg')]\n",
      "[('bed_room', 'dataset/bed_room/bed-1303451__340.jpg')]\n",
      "[('bed_room', 'dataset/bed_room/bed-1303451__340.jpg')]\n",
      "[('bed_room', 'dataset/bed_room/bed-1303451__340.jpg')]\n",
      "[('bed_room', 'dataset/bed_room/bed-1303451__340.jpg')]\n",
      "[('bed_room', 'dataset/bed_room/bed-1303451__340.jpg')]\n",
      "[('bed_room', 'dataset/bed_room/bed-1303451__340.jpg')]\n",
      "[('bed_room', 'dataset/bed_room/bed-1303451__340.jpg')]\n",
      "[('bed_room', 'dataset/bed_room/bed-1303451__340.jpg')]\n",
      "[('bed_room', 'dataset/bed_room/bed-1303451__340.jpg')]\n",
      "[('bed_room', 'dataset/bed_room/bed-1303451__340.jpg')]\n",
      "[('bed_room', 'dataset/bed_room/bed-1303451__340.jpg')]\n",
      "[('bed_room', 'dataset/bed_room/bed-1303451__340.jpg')]\n",
      "[('bed_room', 'dataset/bed_room/bed-1303451__340.jpg')]\n",
      "[('bed_room', 'dataset/bed_room/bed-1303451__340.jpg')]\n",
      "[('bed_room', 'dataset/bed_room/bed-1303451__340.jpg')]\n",
      "[('bed_room', 'dataset/bed_room/bed-1303451__340.jpg')]\n",
      "[('bed_room', 'dataset/bed_room/bed-1303451__340.jpg')]\n",
      "[('bed_room', 'dataset/bed_room/bed-1303451__340.jpg')]\n",
      "[('bed_room', 'dataset/bed_room/bed-1303451__340.jpg')]\n",
      "[('bed_room', 'dataset/bed_room/bed-1303451__340.jpg')]\n",
      "[('bed_room', 'dataset/bed_room/bed-1303451__340.jpg')]\n",
      "[('bed_room', 'dataset/bed_room/bed-1303451__340.jpg')]\n",
      "[('bed_room', 'dataset/bed_room/bed-1303451__340.jpg')]\n",
      "[('bed_room', 'dataset/bed_room/bed-1303451__340.jpg')]\n",
      "[('bed_room', 'dataset/bed_room/bed-1303451__340.jpg')]\n",
      "[('bed_room', 'dataset/bed_room/bed-1303451__340.jpg')]\n",
      "[('bed_room', 'dataset/bed_room/bed-1303451__340.jpg')]\n",
      "[('bed_room', 'dataset/bed_room/bed-1303451__340.jpg')]\n",
      "[('bed_room', 'dataset/bed_room/bed-1303451__340.jpg')]\n",
      "[('bed_room', 'dataset/bed_room/bed-1303451__340.jpg')]\n",
      "[('bed_room', 'dataset/bed_room/bed-1303451__340.jpg')]\n",
      "[('bed_room', 'dataset/bed_room/bed-1303451__340.jpg')]\n",
      "[('bed_room', 'dataset/bed_room/bed-1303451__340.jpg')]\n",
      "[('bed_room', 'dataset/bed_room/bed-1303451__340.jpg')]\n",
      "[('bed_room', 'dataset/bed_room/bed-1303451__340.jpg')]\n",
      "[('bed_room', 'dataset/bed_room/bed-1303451__340.jpg')]\n",
      "[('bed_room', 'dataset/bed_room/bed-1303451__340.jpg')]\n",
      "[('bed_room', 'dataset/bed_room/bed-1303451__340.jpg')]\n",
      "[('bed_room', 'dataset/bed_room/bed-1303451__340.jpg')]\n",
      "[('bed_room', 'dataset/bed_room/bed-1303451__340.jpg')]\n",
      "[('bed_room', 'dataset/bed_room/bed-1303451__340.jpg')]\n",
      "[('bed_room', 'dataset/bed_room/bed-1303451__340.jpg')]\n",
      "[('bed_room', 'dataset/bed_room/bed-1303451__340.jpg')]\n",
      "[('bed_room', 'dataset/bed_room/bed-1303451__340.jpg')]\n",
      "[('bed_room', 'dataset/bed_room/bed-1303451__340.jpg')]\n",
      "[('bed_room', 'dataset/bed_room/bed-1303451__340.jpg')]\n",
      "[('bed_room', 'dataset/bed_room/bed-1303451__340.jpg')]\n",
      "[('bed_room', 'dataset/bed_room/bed-1303451__340.jpg')]\n",
      "[('bed_room', 'dataset/bed_room/bed-1303451__340.jpg')]\n",
      "[('bed_room', 'dataset/bed_room/bed-1303451__340.jpg')]\n",
      "[('bed_room', 'dataset/bed_room/bed-1303451__340.jpg')]\n",
      "[('bed_room', 'dataset/bed_room/bed-1303451__340.jpg')]\n",
      "[('bed_room', 'dataset/bed_room/bed-1303451__340.jpg')]\n",
      "[('bed_room', 'dataset/bed_room/bed-1303451__340.jpg')]\n",
      "[('bed_room', 'dataset/bed_room/bed-1303451__340.jpg')]\n",
      "[('bed_room', 'dataset/bed_room/bed-1303451__340.jpg')]\n",
      "[('bed_room', 'dataset/bed_room/bed-1303451__340.jpg')]\n",
      "[('bed_room', 'dataset/bed_room/bed-1303451__340.jpg')]\n",
      "[('bed_room', 'dataset/bed_room/bed-1303451__340.jpg')]\n",
      "[('bed_room', 'dataset/bed_room/bed-1303451__340.jpg')]\n",
      "[('bed_room', 'dataset/bed_room/bed-1303451__340.jpg')]\n",
      "[('bed_room', 'dataset/bed_room/bed-1303451__340.jpg')]\n",
      "[('bed_room', 'dataset/bed_room/bed-1303451__340.jpg')]\n",
      "[('bed_room', 'dataset/bed_room/bed-1303451__340.jpg')]\n",
      "[('bed_room', 'dataset/bed_room/bed-1303451__340.jpg')]\n",
      "[('bed_room', 'dataset/bed_room/bed-1303451__340.jpg')]\n",
      "[('bed_room', 'dataset/bed_room/bed-1303451__340.jpg')]\n",
      "[('bed_room', 'dataset/bed_room/bed-1303451__340.jpg')]\n",
      "[('bed_room', 'dataset/bed_room/bed-1303451__340.jpg')]\n",
      "[('bed_room', 'dataset/bed_room/bed-1303451__340.jpg')]\n",
      "[('bed_room', 'dataset/bed_room/bed-1303451__340.jpg')]\n",
      "[('bed_room', 'dataset/bed_room/bed-1303451__340.jpg')]\n",
      "[('bed_room', 'dataset/bed_room/bed-1303451__340.jpg')]\n",
      "[('bed_room', 'dataset/bed_room/bed-1303451__340.jpg')]\n",
      "[('bed_room', 'dataset/bed_room/bed-1303451__340.jpg')]\n",
      "[('bed_room', 'dataset/bed_room/bed-1303451__340.jpg')]\n",
      "[('bed_room', 'dataset/bed_room/bed-1303451__340.jpg')]\n",
      "[('bed_room', 'dataset/bed_room/bed-1303451__340.jpg')]\n",
      "[('bed_room', 'dataset/bed_room/bed-1303451__340.jpg')]\n",
      "[('bed_room', 'dataset/bed_room/bed-1303451__340.jpg')]\n",
      "[('bed_room', 'dataset/bed_room/bed-1303451__340.jpg')]\n",
      "[('bed_room', 'dataset/bed_room/bed-1303451__340.jpg')]\n",
      "[('bed_room', 'dataset/bed_room/bed-1303451__340.jpg')]\n",
      "[('bed_room', 'dataset/bed_room/bed-1303451__340.jpg')]\n",
      "[('bed_room', 'dataset/bed_room/bed-1303451__340.jpg')]\n",
      "[('bed_room', 'dataset/bed_room/bed-1303451__340.jpg')]\n",
      "[('bed_room', 'dataset/bed_room/bed-1303451__340.jpg')]\n",
      "[('bed_room', 'dataset/bed_room/bed-1303451__340.jpg')]\n",
      "[('bed_room', 'dataset/bed_room/bed-1303451__340.jpg')]\n",
      "[('bed_room', 'dataset/bed_room/bed-1303451__340.jpg')]\n",
      "[('bed_room', 'dataset/bed_room/bed-1303451__340.jpg')]\n",
      "[('bed_room', 'dataset/bed_room/bed-1303451__340.jpg')]\n",
      "[('bed_room', 'dataset/bed_room/bed-1303451__340.jpg')]\n",
      "[('bed_room', 'dataset/bed_room/bed-1303451__340.jpg')]\n"
     ]
    }
   ],
   "source": [
    "rooms = []\n",
    "\n",
    "for item in room_types:\n",
    "    all_rooms = os.listdir('dataset' + '/' + item)\n",
    "    for room in all_rooms:\n",
    "        rooms.append((item, 'dataset' + '/' + item + '/' + room))\n",
    "        print(rooms[:1])\n"
   ]
  },
  {
   "cell_type": "code",
   "execution_count": 3,
   "id": "10531b57-9baf-4fc3-bbc2-5f112f2f343b",
   "metadata": {},
   "outputs": [
    {
     "name": "stdout",
     "output_type": "stream",
     "text": [
      "  room type                                  image\n",
      "0  bed_room  dataset/bed_room/bed-1303451__340.jpg\n",
      "1  bed_room  dataset/bed_room/bed-1846251__340.jpg\n",
      "2  bed_room  dataset/bed_room/bed-3786264__340.jpg\n",
      "3  bed_room  dataset/bed_room/bed-4065946__340.jpg\n",
      "4  bed_room  dataset/bed_room/bed-4343379__340.jpg\n",
      "       room type                                              image\n",
      "98   living_room  dataset/living_room/pexels-rachel-claire-54903...\n",
      "99   living_room  dataset/living_room/pexels-rachel-claire-54903...\n",
      "100  living_room  dataset/living_room/pexels-rachel-claire-81129...\n",
      "101  living_room  dataset/living_room/pexels-taryn-elliott-95657...\n",
      "102  living_room  dataset/living_room/pexels-taryn-elliott-95659...\n"
     ]
    }
   ],
   "source": [
    "rooms_df=pd.DataFrame(data=rooms,columns=['room type', 'image'])\n",
    "print(rooms_df.head())\n",
    "print(rooms_df.tail())"
   ]
  },
  {
   "cell_type": "code",
   "execution_count": 4,
   "id": "9eb64b5d-35a1-4056-b1ac-5ee1a707935d",
   "metadata": {},
   "outputs": [
    {
     "name": "stdout",
     "output_type": "stream",
     "text": [
      "Total number of rooms in the dataset: 103\n"
     ]
    }
   ],
   "source": [
    "print(\"Total number of rooms in the dataset:\" ,len(rooms_df))"
   ]
  },
  {
   "cell_type": "code",
   "execution_count": 5,
   "id": "2e19eb76-0782-41ae-8d1a-4fd4a212c1fa",
   "metadata": {},
   "outputs": [
    {
     "name": "stdout",
     "output_type": "stream",
     "text": [
      "rooms in each category: \n",
      "room type\n",
      "living_room    39\n",
      "bed_room       37\n",
      "dining_room    27\n",
      "Name: count, dtype: int64\n"
     ]
    }
   ],
   "source": [
    "room_count = rooms_df['room type'].value_counts()\n",
    "print(\"rooms in each category: \")\n",
    "print(room_count)"
   ]
  },
  {
   "cell_type": "code",
   "execution_count": 6,
   "id": "8ce0ce70-bf96-4699-852d-6aa81d71e482",
   "metadata": {},
   "outputs": [],
   "source": [
    "import cv2\n",
    "path = 'dataset/'\n",
    "\n",
    "im_size=60\n",
    "\n",
    "images=[]\n",
    "labels=[]\n",
    "\n",
    "for i in room_types:\n",
    "    data_path = path + str(i)\n",
    "    filenames = [i for i in os.listdir(data_path)]\n",
    "\n",
    "    for f in filenames:\n",
    "        img=cv2.imread(data_path +'/'+f)\n",
    "        img=cv2.resize(img,(im_size,im_size))\n",
    "        images.append(img)\n",
    "        labels.append(i)"
   ]
  },
  {
   "cell_type": "code",
   "execution_count": 7,
   "id": "20dfd1e1-1dcc-4696-a00c-7da51f96ce32",
   "metadata": {},
   "outputs": [
    {
     "data": {
      "text/plain": [
       "(103, 60, 60, 3)"
      ]
     },
     "execution_count": 7,
     "metadata": {},
     "output_type": "execute_result"
    }
   ],
   "source": [
    "images = np.array(images)\n",
    "\n",
    "images.shape"
   ]
  },
  {
   "cell_type": "code",
   "execution_count": 8,
   "id": "d1a82c50-66de-4331-8cdd-fda6fcbdc0eb",
   "metadata": {},
   "outputs": [],
   "source": [
    "images = images.astype('float32')/255.0"
   ]
  },
  {
   "cell_type": "code",
   "execution_count": 9,
   "id": "e7f65de3-4774-4a56-a7b3-32b9b19e489d",
   "metadata": {},
   "outputs": [
    {
     "data": {
      "text/plain": [
       "(103, 60, 60, 3)"
      ]
     },
     "execution_count": 9,
     "metadata": {},
     "output_type": "execute_result"
    }
   ],
   "source": [
    "images.shape"
   ]
  },
  {
   "cell_type": "code",
   "execution_count": 10,
   "id": "bb169f3a-0f16-4889-8629-c4a8c4ea7fc3",
   "metadata": {},
   "outputs": [],
   "source": [
    "from sklearn.preprocessing import LabelEncoder,OneHotEncoder"
   ]
  },
  {
   "cell_type": "code",
   "execution_count": 11,
   "id": "fd4492be-0908-4e4d-9a6f-6b44128e60b2",
   "metadata": {},
   "outputs": [
    {
     "name": "stdout",
     "output_type": "stream",
     "text": [
      "['bed_room' 'bed_room' 'bed_room' 'bed_room' 'bed_room']\n"
     ]
    }
   ],
   "source": [
    "y=rooms_df['room type'].values\n",
    "print(y[:5])"
   ]
  },
  {
   "cell_type": "code",
   "execution_count": 12,
   "id": "5ccca059-d10c-4ac5-afe1-ab37b179fc3a",
   "metadata": {},
   "outputs": [
    {
     "name": "stdout",
     "output_type": "stream",
     "text": [
      "[0 0 0 0 0 0 0 0 0 0 0 0 0 0 0 0 0 0 0 0 0 0 0 0 0 0 0 0 0 0 0 0 0 0 0 0 0\n",
      " 1 1 1 1 1 1 1 1 1 1 1 1 1 1 1 1 1 1 1 1 1 1 1 1 1 1 1 2 2 2 2 2 2 2 2 2 2\n",
      " 2 2 2 2 2 2 2 2 2 2 2 2 2 2 2 2 2 2 2 2 2 2 2 2 2 2 2 2 2]\n"
     ]
    }
   ],
   "source": [
    "y_labelencoder = LabelEncoder()\n",
    "y=y_labelencoder.fit_transform(y)\n",
    "print(y)"
   ]
  },
  {
   "cell_type": "code",
   "execution_count": 14,
   "id": "95691b82-23d7-4b17-bde8-f2ae12861f27",
   "metadata": {},
   "outputs": [
    {
     "data": {
      "text/plain": [
       "(103, 3)"
      ]
     },
     "execution_count": 14,
     "metadata": {},
     "output_type": "execute_result"
    }
   ],
   "source": [
    "y=y.reshape(-1,1)\n",
    "from sklearn.compose import ColumnTransformer\n",
    "ct = ColumnTransformer(transformers=[('encoder', OneHotEncoder(), [0])], remainder='passthrough')\n",
    "Y = ct.fit_transform(y)\n",
    "Y.shape"
   ]
  },
  {
   "cell_type": "code",
   "execution_count": 19,
   "id": "fc22b77c-55ae-4f70-9f12-c997bb1c65d0",
   "metadata": {},
   "outputs": [
    {
     "name": "stdout",
     "output_type": "stream",
     "text": [
      "(92, 60, 60, 3)\n",
      "(92, 3)\n",
      "(11, 60, 60, 3)\n",
      "(11, 3)\n"
     ]
    }
   ],
   "source": [
    "from sklearn.utils import shuffle\n",
    "from sklearn.model_selection import train_test_split\n",
    "\n",
    "images,Y=shuffle(images,Y,random_state=1)\n",
    "\n",
    "train_x,test_x,train_y,test_y =train_test_split(images,Y,test_size=0.1,random_state=415)\n",
    "\n",
    "print(train_x.shape)\n",
    "print(train_y.shape)\n",
    "print(test_x.shape)\n",
    "print(test_y.shape)"
   ]
  },
  {
   "cell_type": "code",
   "execution_count": 29,
   "id": "359f7e3f-92b6-4919-80a0-59634d0ed399",
   "metadata": {},
   "outputs": [],
   "source": [
    "import tensorflow as tf\n",
    "\n",
    "num_classes=3\n",
    "num_channels = 3\n",
    "img_size = 60\n",
    "learning_rate=0.001"
   ]
  },
  {
   "cell_type": "code",
   "execution_count": 30,
   "id": "4733d783-1f96-468a-8046-2a3989545cde",
   "metadata": {},
   "outputs": [],
   "source": [
    "model = tf.keras.Sequential([\n",
    "    tf.keras.layers.Input(shape=(img_size,img_size,num_channels)),\n",
    "    tf.keras.layers.Conv2D(32,(5,5),activation='relu',padding='same'),\n",
    "    tf.keras.layers.MaxPooling2D(pool_size=(2,2)),\n",
    "    tf.keras.layers.Conv2D(64,(5,5),activation='relu',padding='same'),\n",
    "    tf.keras.layers.MaxPooling2D(pool_size=(2,2)),\n",
    "    tf.keras.layers.Conv2D(128,(5,5),activation='relu',padding='same'),\n",
    "    tf.keras.layers.MaxPooling2D(pool_size=(2,2)),\n",
    "    tf.keras.layers.Flatten(),\n",
    "    tf.keras.layers.Dense(2048,activation='relu'),\n",
    "    tf.keras.layers.Dense(num_classes,activation='softmax')\n",
    "])\n"
   ]
  },
  {
   "cell_type": "code",
   "execution_count": 31,
   "id": "6a73ae43-f0b1-40b4-aae8-dc617be99ca5",
   "metadata": {},
   "outputs": [
    {
     "data": {
      "text/html": [
       "<pre style=\"white-space:pre;overflow-x:auto;line-height:normal;font-family:Menlo,'DejaVu Sans Mono',consolas,'Courier New',monospace\"><span style=\"font-weight: bold\">Model: \"sequential\"</span>\n",
       "</pre>\n"
      ],
      "text/plain": [
       "\u001b[1mModel: \"sequential\"\u001b[0m\n"
      ]
     },
     "metadata": {},
     "output_type": "display_data"
    },
    {
     "data": {
      "text/html": [
       "<pre style=\"white-space:pre;overflow-x:auto;line-height:normal;font-family:Menlo,'DejaVu Sans Mono',consolas,'Courier New',monospace\">┏━━━━━━━━━━━━━━━━━━━━━━━━━━━━━━━━━━━━━━┳━━━━━━━━━━━━━━━━━━━━━━━━━━━━━┳━━━━━━━━━━━━━━━━━┓\n",
       "┃<span style=\"font-weight: bold\"> Layer (type)                         </span>┃<span style=\"font-weight: bold\"> Output Shape                </span>┃<span style=\"font-weight: bold\">         Param # </span>┃\n",
       "┡━━━━━━━━━━━━━━━━━━━━━━━━━━━━━━━━━━━━━━╇━━━━━━━━━━━━━━━━━━━━━━━━━━━━━╇━━━━━━━━━━━━━━━━━┩\n",
       "│ conv2d (<span style=\"color: #0087ff; text-decoration-color: #0087ff\">Conv2D</span>)                      │ (<span style=\"color: #00d7ff; text-decoration-color: #00d7ff\">None</span>, <span style=\"color: #00af00; text-decoration-color: #00af00\">60</span>, <span style=\"color: #00af00; text-decoration-color: #00af00\">60</span>, <span style=\"color: #00af00; text-decoration-color: #00af00\">32</span>)          │           <span style=\"color: #00af00; text-decoration-color: #00af00\">2,432</span> │\n",
       "├──────────────────────────────────────┼─────────────────────────────┼─────────────────┤\n",
       "│ max_pooling2d (<span style=\"color: #0087ff; text-decoration-color: #0087ff\">MaxPooling2D</span>)         │ (<span style=\"color: #00d7ff; text-decoration-color: #00d7ff\">None</span>, <span style=\"color: #00af00; text-decoration-color: #00af00\">30</span>, <span style=\"color: #00af00; text-decoration-color: #00af00\">30</span>, <span style=\"color: #00af00; text-decoration-color: #00af00\">32</span>)          │               <span style=\"color: #00af00; text-decoration-color: #00af00\">0</span> │\n",
       "├──────────────────────────────────────┼─────────────────────────────┼─────────────────┤\n",
       "│ conv2d_1 (<span style=\"color: #0087ff; text-decoration-color: #0087ff\">Conv2D</span>)                    │ (<span style=\"color: #00d7ff; text-decoration-color: #00d7ff\">None</span>, <span style=\"color: #00af00; text-decoration-color: #00af00\">30</span>, <span style=\"color: #00af00; text-decoration-color: #00af00\">30</span>, <span style=\"color: #00af00; text-decoration-color: #00af00\">64</span>)          │          <span style=\"color: #00af00; text-decoration-color: #00af00\">51,264</span> │\n",
       "├──────────────────────────────────────┼─────────────────────────────┼─────────────────┤\n",
       "│ max_pooling2d_1 (<span style=\"color: #0087ff; text-decoration-color: #0087ff\">MaxPooling2D</span>)       │ (<span style=\"color: #00d7ff; text-decoration-color: #00d7ff\">None</span>, <span style=\"color: #00af00; text-decoration-color: #00af00\">15</span>, <span style=\"color: #00af00; text-decoration-color: #00af00\">15</span>, <span style=\"color: #00af00; text-decoration-color: #00af00\">64</span>)          │               <span style=\"color: #00af00; text-decoration-color: #00af00\">0</span> │\n",
       "├──────────────────────────────────────┼─────────────────────────────┼─────────────────┤\n",
       "│ conv2d_2 (<span style=\"color: #0087ff; text-decoration-color: #0087ff\">Conv2D</span>)                    │ (<span style=\"color: #00d7ff; text-decoration-color: #00d7ff\">None</span>, <span style=\"color: #00af00; text-decoration-color: #00af00\">15</span>, <span style=\"color: #00af00; text-decoration-color: #00af00\">15</span>, <span style=\"color: #00af00; text-decoration-color: #00af00\">128</span>)         │         <span style=\"color: #00af00; text-decoration-color: #00af00\">204,928</span> │\n",
       "├──────────────────────────────────────┼─────────────────────────────┼─────────────────┤\n",
       "│ max_pooling2d_2 (<span style=\"color: #0087ff; text-decoration-color: #0087ff\">MaxPooling2D</span>)       │ (<span style=\"color: #00d7ff; text-decoration-color: #00d7ff\">None</span>, <span style=\"color: #00af00; text-decoration-color: #00af00\">7</span>, <span style=\"color: #00af00; text-decoration-color: #00af00\">7</span>, <span style=\"color: #00af00; text-decoration-color: #00af00\">128</span>)           │               <span style=\"color: #00af00; text-decoration-color: #00af00\">0</span> │\n",
       "├──────────────────────────────────────┼─────────────────────────────┼─────────────────┤\n",
       "│ flatten (<span style=\"color: #0087ff; text-decoration-color: #0087ff\">Flatten</span>)                    │ (<span style=\"color: #00d7ff; text-decoration-color: #00d7ff\">None</span>, <span style=\"color: #00af00; text-decoration-color: #00af00\">6272</span>)                │               <span style=\"color: #00af00; text-decoration-color: #00af00\">0</span> │\n",
       "├──────────────────────────────────────┼─────────────────────────────┼─────────────────┤\n",
       "│ dense (<span style=\"color: #0087ff; text-decoration-color: #0087ff\">Dense</span>)                        │ (<span style=\"color: #00d7ff; text-decoration-color: #00d7ff\">None</span>, <span style=\"color: #00af00; text-decoration-color: #00af00\">2048</span>)                │      <span style=\"color: #00af00; text-decoration-color: #00af00\">12,847,104</span> │\n",
       "├──────────────────────────────────────┼─────────────────────────────┼─────────────────┤\n",
       "│ dense_1 (<span style=\"color: #0087ff; text-decoration-color: #0087ff\">Dense</span>)                      │ (<span style=\"color: #00d7ff; text-decoration-color: #00d7ff\">None</span>, <span style=\"color: #00af00; text-decoration-color: #00af00\">3</span>)                   │           <span style=\"color: #00af00; text-decoration-color: #00af00\">6,147</span> │\n",
       "└──────────────────────────────────────┴─────────────────────────────┴─────────────────┘\n",
       "</pre>\n"
      ],
      "text/plain": [
       "┏━━━━━━━━━━━━━━━━━━━━━━━━━━━━━━━━━━━━━━┳━━━━━━━━━━━━━━━━━━━━━━━━━━━━━┳━━━━━━━━━━━━━━━━━┓\n",
       "┃\u001b[1m \u001b[0m\u001b[1mLayer (type)                        \u001b[0m\u001b[1m \u001b[0m┃\u001b[1m \u001b[0m\u001b[1mOutput Shape               \u001b[0m\u001b[1m \u001b[0m┃\u001b[1m \u001b[0m\u001b[1m        Param #\u001b[0m\u001b[1m \u001b[0m┃\n",
       "┡━━━━━━━━━━━━━━━━━━━━━━━━━━━━━━━━━━━━━━╇━━━━━━━━━━━━━━━━━━━━━━━━━━━━━╇━━━━━━━━━━━━━━━━━┩\n",
       "│ conv2d (\u001b[38;5;33mConv2D\u001b[0m)                      │ (\u001b[38;5;45mNone\u001b[0m, \u001b[38;5;34m60\u001b[0m, \u001b[38;5;34m60\u001b[0m, \u001b[38;5;34m32\u001b[0m)          │           \u001b[38;5;34m2,432\u001b[0m │\n",
       "├──────────────────────────────────────┼─────────────────────────────┼─────────────────┤\n",
       "│ max_pooling2d (\u001b[38;5;33mMaxPooling2D\u001b[0m)         │ (\u001b[38;5;45mNone\u001b[0m, \u001b[38;5;34m30\u001b[0m, \u001b[38;5;34m30\u001b[0m, \u001b[38;5;34m32\u001b[0m)          │               \u001b[38;5;34m0\u001b[0m │\n",
       "├──────────────────────────────────────┼─────────────────────────────┼─────────────────┤\n",
       "│ conv2d_1 (\u001b[38;5;33mConv2D\u001b[0m)                    │ (\u001b[38;5;45mNone\u001b[0m, \u001b[38;5;34m30\u001b[0m, \u001b[38;5;34m30\u001b[0m, \u001b[38;5;34m64\u001b[0m)          │          \u001b[38;5;34m51,264\u001b[0m │\n",
       "├──────────────────────────────────────┼─────────────────────────────┼─────────────────┤\n",
       "│ max_pooling2d_1 (\u001b[38;5;33mMaxPooling2D\u001b[0m)       │ (\u001b[38;5;45mNone\u001b[0m, \u001b[38;5;34m15\u001b[0m, \u001b[38;5;34m15\u001b[0m, \u001b[38;5;34m64\u001b[0m)          │               \u001b[38;5;34m0\u001b[0m │\n",
       "├──────────────────────────────────────┼─────────────────────────────┼─────────────────┤\n",
       "│ conv2d_2 (\u001b[38;5;33mConv2D\u001b[0m)                    │ (\u001b[38;5;45mNone\u001b[0m, \u001b[38;5;34m15\u001b[0m, \u001b[38;5;34m15\u001b[0m, \u001b[38;5;34m128\u001b[0m)         │         \u001b[38;5;34m204,928\u001b[0m │\n",
       "├──────────────────────────────────────┼─────────────────────────────┼─────────────────┤\n",
       "│ max_pooling2d_2 (\u001b[38;5;33mMaxPooling2D\u001b[0m)       │ (\u001b[38;5;45mNone\u001b[0m, \u001b[38;5;34m7\u001b[0m, \u001b[38;5;34m7\u001b[0m, \u001b[38;5;34m128\u001b[0m)           │               \u001b[38;5;34m0\u001b[0m │\n",
       "├──────────────────────────────────────┼─────────────────────────────┼─────────────────┤\n",
       "│ flatten (\u001b[38;5;33mFlatten\u001b[0m)                    │ (\u001b[38;5;45mNone\u001b[0m, \u001b[38;5;34m6272\u001b[0m)                │               \u001b[38;5;34m0\u001b[0m │\n",
       "├──────────────────────────────────────┼─────────────────────────────┼─────────────────┤\n",
       "│ dense (\u001b[38;5;33mDense\u001b[0m)                        │ (\u001b[38;5;45mNone\u001b[0m, \u001b[38;5;34m2048\u001b[0m)                │      \u001b[38;5;34m12,847,104\u001b[0m │\n",
       "├──────────────────────────────────────┼─────────────────────────────┼─────────────────┤\n",
       "│ dense_1 (\u001b[38;5;33mDense\u001b[0m)                      │ (\u001b[38;5;45mNone\u001b[0m, \u001b[38;5;34m3\u001b[0m)                   │           \u001b[38;5;34m6,147\u001b[0m │\n",
       "└──────────────────────────────────────┴─────────────────────────────┴─────────────────┘\n"
      ]
     },
     "metadata": {},
     "output_type": "display_data"
    },
    {
     "data": {
      "text/html": [
       "<pre style=\"white-space:pre;overflow-x:auto;line-height:normal;font-family:Menlo,'DejaVu Sans Mono',consolas,'Courier New',monospace\"><span style=\"font-weight: bold\"> Total params: </span><span style=\"color: #00af00; text-decoration-color: #00af00\">13,111,875</span> (50.02 MB)\n",
       "</pre>\n"
      ],
      "text/plain": [
       "\u001b[1m Total params: \u001b[0m\u001b[38;5;34m13,111,875\u001b[0m (50.02 MB)\n"
      ]
     },
     "metadata": {},
     "output_type": "display_data"
    },
    {
     "data": {
      "text/html": [
       "<pre style=\"white-space:pre;overflow-x:auto;line-height:normal;font-family:Menlo,'DejaVu Sans Mono',consolas,'Courier New',monospace\"><span style=\"font-weight: bold\"> Trainable params: </span><span style=\"color: #00af00; text-decoration-color: #00af00\">13,111,875</span> (50.02 MB)\n",
       "</pre>\n"
      ],
      "text/plain": [
       "\u001b[1m Trainable params: \u001b[0m\u001b[38;5;34m13,111,875\u001b[0m (50.02 MB)\n"
      ]
     },
     "metadata": {},
     "output_type": "display_data"
    },
    {
     "data": {
      "text/html": [
       "<pre style=\"white-space:pre;overflow-x:auto;line-height:normal;font-family:Menlo,'DejaVu Sans Mono',consolas,'Courier New',monospace\"><span style=\"font-weight: bold\"> Non-trainable params: </span><span style=\"color: #00af00; text-decoration-color: #00af00\">0</span> (0.00 B)\n",
       "</pre>\n"
      ],
      "text/plain": [
       "\u001b[1m Non-trainable params: \u001b[0m\u001b[38;5;34m0\u001b[0m (0.00 B)\n"
      ]
     },
     "metadata": {},
     "output_type": "display_data"
    }
   ],
   "source": [
    "model.compile(optimizer=tf.keras.optimizers.Adam(learning_rate=learning_rate),\n",
    "              loss='categorical_crossentropy',\n",
    "              metrics=['accuracy'])\n",
    "\n",
    "model.summary()"
   ]
  },
  {
   "cell_type": "code",
   "execution_count": 34,
   "id": "eabf0ce7-42c9-435c-9afb-01df1d5d21dc",
   "metadata": {},
   "outputs": [
    {
     "name": "stdout",
     "output_type": "stream",
     "text": [
      "Epoch 1/10\n",
      "\u001b[1m5/5\u001b[0m \u001b[32m━━━━━━━━━━━━━━━━━━━━\u001b[0m\u001b[37m\u001b[0m \u001b[1m3s\u001b[0m 209ms/step - accuracy: 0.3271 - loss: 2.0206 - val_accuracy: 0.4211 - val_loss: 1.0938\n",
      "Epoch 2/10\n",
      "\u001b[1m5/5\u001b[0m \u001b[32m━━━━━━━━━━━━━━━━━━━━\u001b[0m\u001b[37m\u001b[0m \u001b[1m1s\u001b[0m 147ms/step - accuracy: 0.3889 - loss: 1.0996 - val_accuracy: 0.4211 - val_loss: 1.0903\n",
      "Epoch 3/10\n",
      "\u001b[1m5/5\u001b[0m \u001b[32m━━━━━━━━━━━━━━━━━━━━\u001b[0m\u001b[37m\u001b[0m \u001b[1m1s\u001b[0m 145ms/step - accuracy: 0.3653 - loss: 1.0927 - val_accuracy: 0.4211 - val_loss: 1.0904\n",
      "Epoch 4/10\n",
      "\u001b[1m5/5\u001b[0m \u001b[32m━━━━━━━━━━━━━━━━━━━━\u001b[0m\u001b[37m\u001b[0m \u001b[1m1s\u001b[0m 148ms/step - accuracy: 0.4293 - loss: 1.0855 - val_accuracy: 0.4211 - val_loss: 1.0711\n",
      "Epoch 5/10\n",
      "\u001b[1m5/5\u001b[0m \u001b[32m━━━━━━━━━━━━━━━━━━━━\u001b[0m\u001b[37m\u001b[0m \u001b[1m1s\u001b[0m 140ms/step - accuracy: 0.4113 - loss: 1.0613 - val_accuracy: 0.5263 - val_loss: 1.0530\n",
      "Epoch 6/10\n",
      "\u001b[1m5/5\u001b[0m \u001b[32m━━━━━━━━━━━━━━━━━━━━\u001b[0m\u001b[37m\u001b[0m \u001b[1m1s\u001b[0m 145ms/step - accuracy: 0.6380 - loss: 1.0103 - val_accuracy: 0.3158 - val_loss: 1.1637\n",
      "Epoch 7/10\n",
      "\u001b[1m5/5\u001b[0m \u001b[32m━━━━━━━━━━━━━━━━━━━━\u001b[0m\u001b[37m\u001b[0m \u001b[1m1s\u001b[0m 153ms/step - accuracy: 0.4421 - loss: 1.0368 - val_accuracy: 0.5789 - val_loss: 0.9980\n",
      "Epoch 8/10\n",
      "\u001b[1m5/5\u001b[0m \u001b[32m━━━━━━━━━━━━━━━━━━━━\u001b[0m\u001b[37m\u001b[0m \u001b[1m1s\u001b[0m 143ms/step - accuracy: 0.5828 - loss: 0.9336 - val_accuracy: 0.4211 - val_loss: 1.0337\n",
      "Epoch 9/10\n",
      "\u001b[1m5/5\u001b[0m \u001b[32m━━━━━━━━━━━━━━━━━━━━\u001b[0m\u001b[37m\u001b[0m \u001b[1m1s\u001b[0m 139ms/step - accuracy: 0.5811 - loss: 0.9096 - val_accuracy: 0.3684 - val_loss: 1.1238\n",
      "Epoch 10/10\n",
      "\u001b[1m5/5\u001b[0m \u001b[32m━━━━━━━━━━━━━━━━━━━━\u001b[0m\u001b[37m\u001b[0m \u001b[1m1s\u001b[0m 143ms/step - accuracy: 0.5676 - loss: 0.9357 - val_accuracy: 0.4737 - val_loss: 1.1062\n"
     ]
    },
    {
     "data": {
      "text/plain": [
       "<keras.src.callbacks.history.History at 0x196ac39b530>"
      ]
     },
     "execution_count": 34,
     "metadata": {},
     "output_type": "execute_result"
    }
   ],
   "source": [
    "model.fit(train_x, train_y, epochs=10, batch_size=16, validation_split=0.2)"
   ]
  },
  {
   "cell_type": "code",
   "execution_count": 36,
   "id": "4dfcae0f-46bd-4c47-ba20-0824afeb2106",
   "metadata": {},
   "outputs": [
    {
     "name": "stdout",
     "output_type": "stream",
     "text": [
      "\u001b[1m1/1\u001b[0m \u001b[32m━━━━━━━━━━━━━━━━━━━━\u001b[0m\u001b[37m\u001b[0m \u001b[1m0s\u001b[0m 69ms/step - accuracy: 0.2727 - loss: 1.1779\n",
      "Test Accuracy: 0.27272728085517883\n"
     ]
    }
   ],
   "source": [
    "test_loss, test_accuracy = model.evaluate(test_x, test_y)\n",
    "print(\"Test Accuracy:\", test_accuracy)"
   ]
  },
  {
   "cell_type": "code",
   "execution_count": 37,
   "id": "7656e2cd-6945-453a-856c-fee9593f3a7c",
   "metadata": {},
   "outputs": [
    {
     "name": "stdout",
     "output_type": "stream",
     "text": [
      "\u001b[1m1/1\u001b[0m \u001b[32m━━━━━━━━━━━━━━━━━━━━\u001b[0m\u001b[37m\u001b[0m \u001b[1m0s\u001b[0m 124ms/step\n"
     ]
    }
   ],
   "source": [
    "predictions = model.predict(test_x)\n",
    "predicted_classes = tf.argmax(predictions, axis=1).numpy()\n",
    "\n",
    "true_classes = tf.argmax(test_y, axis=1).numpy()\n"
   ]
  },
  {
   "cell_type": "code",
   "execution_count": null,
   "id": "b74bcd7f-492a-4409-948d-4601b778ee84",
   "metadata": {},
   "outputs": [],
   "source": []
  }
 ],
 "metadata": {
  "kernelspec": {
   "display_name": "Python 3 (ipykernel)",
   "language": "python",
   "name": "python3"
  },
  "language_info": {
   "codemirror_mode": {
    "name": "ipython",
    "version": 3
   },
   "file_extension": ".py",
   "mimetype": "text/x-python",
   "name": "python",
   "nbconvert_exporter": "python",
   "pygments_lexer": "ipython3",
   "version": "3.12.7"
  }
 },
 "nbformat": 4,
 "nbformat_minor": 5
}
